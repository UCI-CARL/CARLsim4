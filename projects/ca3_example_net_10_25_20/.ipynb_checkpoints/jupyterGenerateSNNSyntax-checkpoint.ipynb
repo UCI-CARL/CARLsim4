{
 "cells": [
  {
   "cell_type": "code",
   "execution_count": 7,
   "metadata": {},
   "outputs": [
    {
     "name": "stderr",
     "output_type": "stream",
     "text": [
      "Traceback (most recent call last):\n",
      "  File \"generateSNNSyntax.py\", line 524, in <module>\n",
      "    generateSNNSyntax(\"ca3net_06_24_20_hc.xlsm\")\n",
      "  File \"generateSNNSyntax.py\", line 12, in generateSNNSyntax\n",
      "    dfNetList = pd.read_excel(fileName, sheet_name='CA3_netlist');\n",
      "  File \"C:\\Users\\Jeffrey Kopsick\\Anaconda3\\lib\\site-packages\\pandas\\util\\_decorators.py\", line 208, in wrapper\n",
      "    return func(*args, **kwargs)\n",
      "  File \"C:\\Users\\Jeffrey Kopsick\\Anaconda3\\lib\\site-packages\\pandas\\io\\excel\\_base.py\", line 310, in read_excel\n",
      "    io = ExcelFile(io, engine=engine)\n",
      "  File \"C:\\Users\\Jeffrey Kopsick\\Anaconda3\\lib\\site-packages\\pandas\\io\\excel\\_base.py\", line 819, in __init__\n",
      "    self._reader = self._engines[engine](self._io)\n",
      "  File \"C:\\Users\\Jeffrey Kopsick\\Anaconda3\\lib\\site-packages\\pandas\\io\\excel\\_xlrd.py\", line 21, in __init__\n",
      "    super().__init__(filepath_or_buffer)\n",
      "  File \"C:\\Users\\Jeffrey Kopsick\\Anaconda3\\lib\\site-packages\\pandas\\io\\excel\\_base.py\", line 359, in __init__\n",
      "    self.book = self.load_workbook(filepath_or_buffer)\n",
      "  File \"C:\\Users\\Jeffrey Kopsick\\Anaconda3\\lib\\site-packages\\pandas\\io\\excel\\_xlrd.py\", line 36, in load_workbook\n",
      "    return open_workbook(filepath_or_buffer)\n",
      "  File \"C:\\Users\\Jeffrey Kopsick\\Anaconda3\\lib\\site-packages\\xlrd\\__init__.py\", line 111, in open_workbook\n",
      "    with open(filename, \"rb\") as f:\n",
      "FileNotFoundError: [Errno 2] No such file or directory: 'ca3net_06_24_20_hc.xlsm'\n"
     ]
    }
   ],
   "source": [
    "!python generateSNNSyntax.py"
   ]
  },
  {
   "cell_type": "code",
   "execution_count": null,
   "metadata": {},
   "outputs": [],
   "source": []
  }
 ],
 "metadata": {
  "kernelspec": {
   "display_name": "Python 3",
   "language": "python",
   "name": "python3"
  },
  "language_info": {
   "codemirror_mode": {
    "name": "ipython",
    "version": 3
   },
   "file_extension": ".py",
   "mimetype": "text/x-python",
   "name": "python",
   "nbconvert_exporter": "python",
   "pygments_lexer": "ipython3",
   "version": "3.7.4"
  }
 },
 "nbformat": 4,
 "nbformat_minor": 4
}
